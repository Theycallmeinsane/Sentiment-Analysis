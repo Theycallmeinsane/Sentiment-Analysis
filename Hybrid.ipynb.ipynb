{
  "nbformat": 4,
  "nbformat_minor": 0,
  "metadata": {
    "colab": {
      "provenance": []
    },
    "kernelspec": {
      "name": "python3",
      "display_name": "Python 3"
    },
    "language_info": {
      "name": "python"
    }
  },
  "cells": [
    {
      "cell_type": "code",
      "source": [
        "!pip install vaderSentiment\n"
      ],
      "metadata": {
        "colab": {
          "base_uri": "https://localhost:8080/"
        },
        "id": "6SV6GBD6F0J6",
        "outputId": "88ddb122-46d2-407e-ae9d-6fbdb4815585"
      },
      "execution_count": 1,
      "outputs": [
        {
          "output_type": "stream",
          "name": "stdout",
          "text": [
            "Collecting vaderSentiment\n",
            "  Downloading vaderSentiment-3.3.2-py2.py3-none-any.whl (125 kB)\n",
            "\u001b[?25l     \u001b[90m━━━━━━━━━━━━━━━━━━━━━━━━━━━━━━━━━━━━━━━━\u001b[0m \u001b[32m0.0/126.0 kB\u001b[0m \u001b[31m?\u001b[0m eta \u001b[36m-:--:--\u001b[0m\r\u001b[2K     \u001b[90m━━━━━━━━━━━━━━━━━━━━━━━━━━━━━━━━━━━━━━━━\u001b[0m \u001b[32m126.0/126.0 kB\u001b[0m \u001b[31m3.7 MB/s\u001b[0m eta \u001b[36m0:00:00\u001b[0m\n",
            "\u001b[?25hRequirement already satisfied: requests in /usr/local/lib/python3.10/dist-packages (from vaderSentiment) (2.31.0)\n",
            "Requirement already satisfied: charset-normalizer<4,>=2 in /usr/local/lib/python3.10/dist-packages (from requests->vaderSentiment) (3.3.2)\n",
            "Requirement already satisfied: idna<4,>=2.5 in /usr/local/lib/python3.10/dist-packages (from requests->vaderSentiment) (3.6)\n",
            "Requirement already satisfied: urllib3<3,>=1.21.1 in /usr/local/lib/python3.10/dist-packages (from requests->vaderSentiment) (2.0.7)\n",
            "Requirement already satisfied: certifi>=2017.4.17 in /usr/local/lib/python3.10/dist-packages (from requests->vaderSentiment) (2024.2.2)\n",
            "Installing collected packages: vaderSentiment\n",
            "Successfully installed vaderSentiment-3.3.2\n"
          ]
        }
      ]
    },
    {
      "cell_type": "code",
      "execution_count": 2,
      "metadata": {
        "id": "rLfqFNbOEC_Y"
      },
      "outputs": [],
      "source": [
        "import pandas as pd\n",
        "import numpy as np\n",
        "from sklearn.model_selection import train_test_split\n",
        "from gensim.models import Word2Vec\n",
        "from sklearn.ensemble import RandomForestClassifier\n",
        "from sklearn.metrics import accuracy_score, classification_report\n",
        "from sklearn.pipeline import Pipeline\n",
        "from sklearn.preprocessing import StandardScaler\n",
        "from vaderSentiment.vaderSentiment import SentimentIntensityAnalyzer\n",
        "import re\n",
        "import nltk\n",
        "from nltk.corpus import stopwords\n",
        "import time\n"
      ]
    },
    {
      "cell_type": "code",
      "source": [
        "nltk.download('stopwords')"
      ],
      "metadata": {
        "colab": {
          "base_uri": "https://localhost:8080/"
        },
        "id": "it8STIjXE3JP",
        "outputId": "12c15ce6-5060-43f0-bd07-4357f6b994ad"
      },
      "execution_count": 3,
      "outputs": [
        {
          "output_type": "stream",
          "name": "stderr",
          "text": [
            "[nltk_data] Downloading package stopwords to /root/nltk_data...\n",
            "[nltk_data]   Unzipping corpora/stopwords.zip.\n"
          ]
        },
        {
          "output_type": "execute_result",
          "data": {
            "text/plain": [
              "True"
            ]
          },
          "metadata": {},
          "execution_count": 3
        }
      ]
    },
    {
      "cell_type": "code",
      "source": [
        "def preprocess_text_for_embedding(text):\n",
        "    text = text.lower()\n",
        "    text = re.sub(r'\\W', ' ', text)\n",
        "    text = re.sub(r'\\s+', ' ', text).strip()\n",
        "    tokens = text.split()\n",
        "    filtered_tokens = [token for token in tokens if token not in stopwords.words('english')]\n",
        "    return filtered_tokens"
      ],
      "metadata": {
        "id": "sLmzWszuE6eZ"
      },
      "execution_count": 4,
      "outputs": []
    },
    {
      "cell_type": "code",
      "source": [
        "train_df = pd.read_csv('train.csv')\n",
        "test_df = pd.read_csv('test.csv')"
      ],
      "metadata": {
        "id": "YvaTnzESE9DB"
      },
      "execution_count": 5,
      "outputs": []
    },
    {
      "cell_type": "code",
      "source": [
        "train_df['tokens'] = train_df['review'].apply(preprocess_text_for_embedding)\n",
        "test_df['tokens'] = test_df['review'].apply(preprocess_text_for_embedding)\n"
      ],
      "metadata": {
        "id": "YZSUIFkQE_Rq"
      },
      "execution_count": 6,
      "outputs": []
    },
    {
      "cell_type": "code",
      "source": [
        "analyzer = SentimentIntensityAnalyzer()\n"
      ],
      "metadata": {
        "id": "FaiAtfQOSZj8"
      },
      "execution_count": 7,
      "outputs": []
    },
    {
      "cell_type": "code",
      "source": [
        "train_df['vader_score'] = train_df['tokens'].apply(lambda tokens: analyzer.polarity_scores(' '.join(tokens))['compound'])\n",
        "test_df['vader_score'] = test_df['tokens'].apply(lambda tokens: analyzer.polarity_scores(' '.join(tokens))['compound'])\n"
      ],
      "metadata": {
        "id": "__oJzLSsFBVX"
      },
      "execution_count": 8,
      "outputs": []
    },
    {
      "cell_type": "code",
      "source": [
        "word2vec_model = Word2Vec(sentences=train_df['tokens'], vector_size=300, window=8, min_count=5, workers=4, sg=1, epochs=20)\n",
        "\n",
        "def document_vector(word2vec_model, doc):\n",
        "    doc = [word for word in doc if word in word2vec_model.wv.index_to_key]\n",
        "    if not doc:\n",
        "        return np.zeros(word2vec_model.vector_size)\n",
        "    return np.mean(word2vec_model.wv[doc], axis=0)\n",
        "\n",
        "\n",
        "X_train_embeddings = np.array([document_vector(word2vec_model, words) for words in train_df['tokens']])\n",
        "X_test_embeddings = np.array([document_vector(word2vec_model, words) for words in test_df['tokens']])\n",
        "\n"
      ],
      "metadata": {
        "id": "xZOmNaxmFDL_"
      },
      "execution_count": 9,
      "outputs": []
    },
    {
      "cell_type": "code",
      "source": [
        "X_train_vader = train_df['vader_score'].values.reshape(-1, 1)\n",
        "X_test_vader = test_df['vader_score'].values.reshape(-1, 1)\n",
        "\n",
        "X_train_combined = np.hstack((X_train_embeddings, X_train_vader))\n",
        "X_test_combined = np.hstack((X_test_embeddings, X_test_vader))\n"
      ],
      "metadata": {
        "id": "jjDKPzv_FFzi"
      },
      "execution_count": 10,
      "outputs": []
    },
    {
      "cell_type": "code",
      "source": [
        "y_train = train_df['sentiment']\n",
        "y_test = test_df['sentiment']\n"
      ],
      "metadata": {
        "id": "_Yj3JerwFIk6"
      },
      "execution_count": 11,
      "outputs": []
    },
    {
      "cell_type": "code",
      "source": [
        "from sklearn.preprocessing import LabelEncoder\n",
        "\n",
        "label_encoder = LabelEncoder()\n",
        "\n",
        "label_encoder.fit(y_train)\n",
        "\n",
        "y_train_encoded = label_encoder.transform(y_train)"
      ],
      "metadata": {
        "id": "NP5ZTtCLeE-O"
      },
      "execution_count": 12,
      "outputs": []
    },
    {
      "cell_type": "code",
      "source": [
        "y_test_encoded = label_encoder.transform(y_test)\n"
      ],
      "metadata": {
        "id": "k2BV3hBoenQw"
      },
      "execution_count": 13,
      "outputs": []
    },
    {
      "cell_type": "code",
      "source": [
        "!pip install lightgbm\n",
        "import lightgbm as lgb"
      ],
      "metadata": {
        "colab": {
          "base_uri": "https://localhost:8080/"
        },
        "id": "HEGDTvtjGmpQ",
        "outputId": "d846f9a3-307d-4750-8865-b8c96da6e400"
      },
      "execution_count": 15,
      "outputs": [
        {
          "output_type": "stream",
          "name": "stdout",
          "text": [
            "Requirement already satisfied: lightgbm in /usr/local/lib/python3.10/dist-packages (4.1.0)\n",
            "Requirement already satisfied: numpy in /usr/local/lib/python3.10/dist-packages (from lightgbm) (1.25.2)\n",
            "Requirement already satisfied: scipy in /usr/local/lib/python3.10/dist-packages (from lightgbm) (1.11.4)\n"
          ]
        }
      ]
    },
    {
      "cell_type": "code",
      "source": [
        "\n",
        "model = lgb.LGBMClassifier()\n",
        "model.fit(X_train_combined, y_train_encoded)\n",
        "\n",
        "\n",
        "\n",
        "predictions = model.predict(X_test_combined)\n",
        "\n",
        "\n",
        "\n",
        "\n",
        "accuracy = accuracy_score(y_test_encoded, predictions)\n",
        "print(\"Accuracy on test set:\", accuracy)"
      ],
      "metadata": {
        "colab": {
          "base_uri": "https://localhost:8080/"
        },
        "id": "iZqVazlSFWpL",
        "outputId": "f332947a-1410-47c6-ea8c-451424efc499"
      },
      "execution_count": 16,
      "outputs": [
        {
          "output_type": "stream",
          "name": "stdout",
          "text": [
            "[LightGBM] [Info] Number of positive: 14935, number of negative: 15065\n",
            "[LightGBM] [Info] Auto-choosing col-wise multi-threading, the overhead of testing was 0.331743 seconds.\n",
            "You can set `force_col_wise=true` to remove the overhead.\n",
            "[LightGBM] [Info] Total Bins 76755\n",
            "[LightGBM] [Info] Number of data points in the train set: 30000, number of used features: 301\n",
            "[LightGBM] [Info] [binary:BoostFromScore]: pavg=0.497833 -> initscore=-0.008667\n",
            "[LightGBM] [Info] Start training from score -0.008667\n",
            "Accuracy on test set: 0.87045\n"
          ]
        }
      ]
    }
  ]
}